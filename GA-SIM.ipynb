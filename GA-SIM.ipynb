{
 "nbformat": 4,
 "nbformat_minor": 2,
 "metadata": {
  "language_info": {
   "name": "python",
   "codemirror_mode": {
    "name": "ipython",
    "version": 3
   },
   "version": "3.8.2-final"
  },
  "orig_nbformat": 2,
  "file_extension": ".py",
  "mimetype": "text/x-python",
  "name": "python",
  "npconvert_exporter": "python",
  "pygments_lexer": "ipython3",
  "version": 3,
  "kernelspec": {
   "name": "python38164bitbaseconda2d62fb58075b4b419d73a7e5462ffbf5",
   "display_name": "Python 3.8.1 64-bit ('base': conda)"
  }
 },
 "cells": [
  {
   "cell_type": "code",
   "execution_count": 1,
   "metadata": {},
   "outputs": [],
   "source": [
    "import numpy as np"
   ]
  },
  {
   "cell_type": "code",
   "execution_count": 49,
   "metadata": {},
   "outputs": [],
   "source": [
    "## AG functions\n",
    "class GA:\n",
    "    def __init__(self, nindv, nger, pcross=.3, pmut=.1, ppred=.3, divty=5, conv=0.001):\n",
    "        \"\"\" Create instance of Genetic Algorithm\n",
    "            Parameters:\n",
    "            - nindv     : number of individuals in population\n",
    "            - nger      : number of generation (stop criteria 1)\n",
    "            - pcross    : percentage of crossover\n",
    "            - pmut      : percentage of mutation\n",
    "            - ppred     : percentage of predation (worst individuals will be killed)\n",
    "            - divty     : diversity of predation application (each divth-th generation will apply predation)\n",
    "            - conv      : minimum error of convergence (stop criteria 2)\n",
    "        \"\"\"\n",
    "        self.nindv = nindv\n",
    "        self.pcross = pcross\n",
    "        self.pmut = pmut\n",
    "        self.ppred = ppred\n",
    "        self.divty = divty\n",
    "    \n",
    "\n",
    "    def parametersRange(params):\n",
    "        self.params = params\n",
    "        self.population = np.random.rand(self.nindv, len(params))\n",
    "        \n",
    "\n",
    "\n",
    "\n",
    "def create_population(nindv, params_minmax):\n",
    "    \"\"\" create_population(nindv, params_minmax)\n",
    "    nindv           : number of individuals in the population (int)\n",
    "    params_minmax   : list of parameters range [[min, max]]\n",
    "    \"\"\"\n",
    "\n",
    "    population = np.random.rand(nindv, len(params_minmax))\n",
    "    diff = params_minmax.T[1] - params_minmax.T[0] \n",
    "    population = params_minmax.T[0] + (population * diff)\n",
    "    return population\n",
    "\n",
    "def simulation_files(population):\n",
    "    \"\"\" simulation_files(population):\n",
    "    Open function to write for each diferent simulation model. \n",
    "    Get the parameters from each individual and write down them to the correct file simulation\n",
    "    \"\"\"\n",
    "    return 1\n",
    "\n"
   ]
  },
  {
   "cell_type": "code",
   "execution_count": null,
   "metadata": {},
   "outputs": [],
   "source": [
    "create_population()"
   ]
  }
 ]
}