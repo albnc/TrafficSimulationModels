{
 "nbformat": 4,
 "nbformat_minor": 2,
 "metadata": {
  "language_info": {
   "name": "python",
   "codemirror_mode": {
    "name": "ipython",
    "version": 3
   },
   "version": "3.8.2-final"
  },
  "orig_nbformat": 2,
  "file_extension": ".py",
  "mimetype": "text/x-python",
  "name": "python",
  "npconvert_exporter": "python",
  "pygments_lexer": "ipython3",
  "version": 3,
  "kernelspec": {
   "name": "python38164bitbaseconda2d62fb58075b4b419d73a7e5462ffbf5",
   "display_name": "Python 3.8.1 64-bit ('base': conda)"
  }
 },
 "cells": [
  {
   "cell_type": "code",
   "execution_count": 1,
   "metadata": {},
   "outputs": [],
   "source": [
    "import numpy as np"
   ]
  },
  {
   "cell_type": "code",
   "execution_count": 49,
   "metadata": {},
   "outputs": [],
   "source": [
    "## AG functions\n",
    "class GA:\n",
    "    def __init__(self, nindv, nger, pcross=.3, pmut=.1, ppred=.3, divty=5, minerr=0.001):\n",
    "        \"\"\" Create instance of Genetic Algorithm\n",
    "            Parameters:\n",
    "            - nindv     : number of individuals in population\n",
    "            - nger      : number of generation (stop criteria 1)\n",
    "            - pcross    : percentage of crossover\n",
    "            - pmut      : percentage of mutation\n",
    "            - ppred     : percentage of predation (worst individuals will be killed)\n",
    "            - divty     : diversity of predation application (each divth-th generation will apply predation)\n",
    "            - conv      : minimum error of convergence (stop criteria 2)\n",
    "        \"\"\"\n",
    "        self.nindv = nindv\n",
    "        self.nger = nger\n",
    "        self.pcross = pcross\n",
    "        self.pmut = pmut\n",
    "        self.ppred = ppred\n",
    "        self.divty = divty\n",
    "        self.minerr = minerr\n",
    "    \n",
    "    def setupGAParameters(nindv, nger, pcross, pmut, ppred, divty, minerr):\n",
    "        self.nindv = nindv\n",
    "        self.nger = nger\n",
    "        self.pcross = pcross\n",
    "        self.pmut = pmut\n",
    "        self.ppred = ppred\n",
    "        self.divty = divty\n",
    "        self.minerr = minerr\n",
    "\n",
    "    def setupPopulation(params, goal):\n",
    "        \"\"\" setupPopulation(params, goal)\n",
    "        - params    : range of each parameter as a list of possible values [[min_value, max_value]]\n",
    "        - goal      : the output results that the GA will be achieve as a list of values\n",
    "        \"\"\"\n",
    "        self.params = params\n",
    "        # create new population\n",
    "        self.population = np.array()\n",
    "        mpop = np.random.rand(self.nindv, len(params))\n",
    "        mpop = params_minmax.T[0] + (mpop * (params.T[1] - params.T[0]))\n",
    "        for i in mpop:\n",
    "            self.pop\n",
    "\n",
    "\n",
    "        # setup the goal to achieve\n",
    "        self.goal = goal\n",
    "\n",
    "    def runAG():\n",
    "        for i in range(self.nger):\n",
    "            # write parameters on simulation files\n",
    "            # run simulations\n",
    "            # obtain results from simulation\n",
    "            # calculate fitness and rank individuals\n"
   ]
  }
 ]
}